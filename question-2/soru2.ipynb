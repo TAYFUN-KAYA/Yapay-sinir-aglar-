{
  "nbformat": 4,
  "nbformat_minor": 0,
  "metadata": {
    "colab": {
      "provenance": []
    },
    "kernelspec": {
      "name": "python3",
      "display_name": "Python 3"
    },
    "language_info": {
      "name": "python"
    }
  },
  "cells": [
    {
      "cell_type": "code",
      "execution_count": null,
      "metadata": {
        "colab": {
          "base_uri": "https://localhost:8080/"
        },
        "id": "-zUVPaeBs0yJ",
        "outputId": "91d4675e-0b2e-45b1-8431-1ba0bc507f2c"
      },
      "outputs": [
        {
          "output_type": "stream",
          "name": "stdout",
          "text": [
            "tensor([[0.4892],\n",
            "        [0.5566]], grad_fn=<MulBackward0>)\n"
          ]
        }
      ],
      "source": [
        "import torch\n",
        "import torch.nn as nn\n",
        "\n",
        "def sigmoid_activation(x):\n",
        "\n",
        "  return 1 / (1 + torch.exp(-x))\n",
        "\n",
        "def tan_h_activation(x):\n",
        "  response = (torch.exp(x)-torch.exp(-x)) / (torch.exp(x)+torch.exp(-x))\n",
        "  return response\n",
        "\n",
        "# Girdimiz input layer\n",
        "our_matris = [\n",
        "    [1,2,3],\n",
        "    [4,5,6]\n",
        "]\n",
        "\n",
        "# Sonuç aynı çıksın diye ekliyoruz\n",
        "torch.manual_seed(1)\n",
        "# Tensöre çevirme işlemi\n",
        "a = torch.Tensor(our_matris)\n",
        "# hidden layer\n",
        "hidden_layer = nn.Linear(3,50)\n",
        "hidden_output = tan_h_activation(hidden_layer(a))\n",
        "# output layer\n",
        "output_layer = nn.Linear(50,1)\n",
        "output = sigmoid_activation(output_layer(hidden_output))\n",
        "print(output)\n",
        "\n",
        "\n"
      ]
    },
    {
      "cell_type": "code",
      "source": [
        "import torch\n",
        "import torch.nn as nn\n",
        "\n",
        "def sigmoid_activation(x):\n",
        "\n",
        "  return 1 / (1 + torch.exp(-x))\n",
        "\n",
        "def tan_h_activation(x):\n",
        "  response = (torch.exp(x)-torch.exp(-x)) / (torch.exp(x)+torch.exp(-x))\n",
        "  return response\n",
        "\n",
        "# Girdimiz input layer\n",
        "our_matris = [\n",
        "    [1,2,3],\n",
        "    [4,5,6]\n",
        "]\n",
        "\n",
        "# Sonuç aynı çıksın diye ekliyoruz\n",
        "torch.manual_seed(190401071)\n",
        "# Tensöre çevirme işlemi\n",
        "a = torch.Tensor(our_matris)\n",
        "# hidden layer\n",
        "hidden_layer = nn.Linear(3,50)\n",
        "hidden_output = tan_h_activation(hidden_layer(a))\n",
        "# output layer\n",
        "output_layer = nn.Linear(50,1)\n",
        "output = sigmoid_activation(output_layer(hidden_output))\n",
        "print(output)\n",
        "\n",
        "\n"
      ],
      "metadata": {
        "colab": {
          "base_uri": "https://localhost:8080/"
        },
        "id": "Kn_o_7UkR4Lg",
        "outputId": "458cb15d-becc-4b4e-91aa-7876ead0ea00"
      },
      "execution_count": 1,
      "outputs": [
        {
          "output_type": "stream",
          "name": "stdout",
          "text": [
            "tensor([[0.5713],\n",
            "        [0.5368]], grad_fn=<MulBackward0>)\n"
          ]
        }
      ]
    }
  ]
}