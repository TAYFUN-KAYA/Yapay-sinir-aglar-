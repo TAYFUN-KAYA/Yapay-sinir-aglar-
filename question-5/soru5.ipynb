{
  "nbformat": 4,
  "nbformat_minor": 0,
  "metadata": {
    "colab": {
      "provenance": []
    },
    "kernelspec": {
      "name": "python3",
      "display_name": "Python 3"
    },
    "language_info": {
      "name": "python"
    },
    "accelerator": "GPU",
    "gpuClass": "standard"
  },
  "cells": [
    {
      "cell_type": "code",
      "execution_count": 1,
      "metadata": {
        "id": "WPyveNNLTdL1"
      },
      "outputs": [],
      "source": [
        "import torch\n",
        "import torch.nn as nn\n",
        "\n",
        "class MLP(nn.Module):\n",
        "    def __init__(self, input_size, hidden_size1, hidden_size2, output_size):\n",
        "        super(MLP, self).__init__()\n",
        "        self.fc1 = nn.Linear(input_size, hidden_size1)\n",
        "        self.fc2 = nn.Linear(hidden_size1, hidden_size2)\n",
        "        self.fc3 = nn.Linear(hidden_size2, output_size)\n",
        "        self.sigmoid = nn.Sigmoid()\n",
        "        \n",
        "    def forward(self, x):\n",
        "        x = torch.relu(self.fc1(x))\n",
        "        x = torch.relu(self.fc2(x))\n",
        "        x = self.fc3(x)\n",
        "        x = self.sigmoid(x)\n",
        "        return x\n",
        "        \n",
        "input_size = 13\n",
        "hidden_size1 = 50\n",
        "hidden_size2 = 100\n",
        "output_size = 1\n",
        "\n",
        "model = MLP(input_size, hidden_size1, hidden_size2, output_size)\n",
        "\n"
      ]
    },
    {
      "cell_type": "code",
      "source": [
        "# Dosya okuma\n",
        "import pandas as pd\n",
        "import numpy as np\n",
        "from torch.utils.data import TensorDataset\n",
        "\n",
        "train_test = r'/content/drive/MyDrive/cure_the_princess_train.csv'\n",
        "test = r'/content/drive/MyDrive/cure_the_princess_test.csv'\n",
        "validation = r'/content/drive/MyDrive/cure_the_princess_validation.csv'\n",
        "\n",
        "data_train_test = pd.read_csv(train_test)\n",
        "data_test = pd.read_csv(test)\n",
        "data_validation_test = pd.read_csv(validation)\n",
        "\n",
        "# son kısmı alıp drop ediyoruz geriye özellik kısmı kalıyor bunu da değişkene atıyoruz\n",
        "# y traine atıyoruz x train ile doğruluğu kontrol ediyoruz\n",
        "\n",
        "#train loader\n",
        "\n",
        "y_train_test = data_train_test.iloc[:, -1:].values\n",
        "x_train_test = data_train_test.iloc[:, :-1].values\n",
        "x_train_test = torch.tensor(x_train_test, dtype=torch.float32)\n",
        "y_train_test = torch.tensor(y_train_test, dtype=torch.float32)\n",
        "train_data = TensorDataset(x_train_test, y_train_test)\n",
        "train_loader = torch.utils.data.DataLoader(train_data, batch_size = 16)\n",
        "\n",
        "# test loade\n",
        "\n",
        "y_test = data_test.iloc[:, -1:].values\n",
        "x_test = data_test.iloc[:, :-1].values\n",
        "x_test = torch.tensor(x_test, dtype=torch.float32)\n",
        "y_test = torch.tensor(y_test, dtype=torch.float32)\n",
        "test_data = TensorDataset(x_test, y_test)\n",
        "test_loader = torch.utils.data.DataLoader(test_data, batch_size = 16)\n",
        "\n",
        "# valid loader\n",
        "y_valid = data_validation_test.iloc[:, -1:].values\n",
        "x_valid = data_validation_test.iloc[:, :-1].values\n",
        "x_valid = torch.tensor(x_valid, dtype=torch.float32)\n",
        "y_valid = torch.tensor(y_valid, dtype=torch.float32)\n",
        "valid_data = TensorDataset(x_valid, y_valid)\n",
        "valit_loader = torch.utils.data.DataLoader(valid_data, batch_size = 16)\n"
      ],
      "metadata": {
        "id": "T9KKIISXV1yZ"
      },
      "execution_count": 2,
      "outputs": []
    },
    {
      "cell_type": "code",
      "source": [
        "learning_rate = 0.01\n",
        "num_epochs = 25\n",
        "\n",
        "\n",
        "num_hidden_neuron = 5000\n",
        "\n",
        "criterion = nn.BCELoss()\n",
        "optimizer = torch.optim.SGD(model.parameters(), lr=learning_rate)\n",
        "\n",
        "\n",
        "for epoch in range(num_epochs):\n",
        "\n",
        "    train_loss = 0.0\n",
        "    train_count = 0.0\n",
        "    for inputs, labels in train_loader:\n",
        "\n",
        "        optimizer.zero_grad()\n",
        "\n",
        "        outputs = model(inputs)\n",
        "        loss = criterion(outputs, labels)\n",
        "        loss.backward()\n",
        "        optimizer.step()\n",
        "\n",
        "        train_count += 1.0\n",
        "        train_loss += loss.item()\n",
        "\n",
        "    print(\"Epoch\", epoch, \"Training loss\", train_loss/train_count)\n",
        "\n",
        "print('Finished Training')"
      ],
      "metadata": {
        "colab": {
          "base_uri": "https://localhost:8080/"
        },
        "id": "HgwjxEEGgSDC",
        "outputId": "e4ea60b0-955f-4dbe-c86b-528ae411bccb"
      },
      "execution_count": 3,
      "outputs": [
        {
          "output_type": "stream",
          "name": "stdout",
          "text": [
            "Epoch 0 Training loss 0.6879835253274893\n",
            "Epoch 1 Training loss 0.45451166358175155\n",
            "Epoch 2 Training loss 0.3740397825648513\n",
            "Epoch 3 Training loss 0.323237748085698\n",
            "Epoch 4 Training loss 0.2885535824336583\n",
            "Epoch 5 Training loss 0.26609954671769204\n",
            "Epoch 6 Training loss 0.24673110897405237\n",
            "Epoch 7 Training loss 0.23167090320700331\n",
            "Epoch 8 Training loss 0.21844872464484807\n",
            "Epoch 9 Training loss 0.20651234662796877\n",
            "Epoch 10 Training loss 0.19634966981373256\n",
            "Epoch 11 Training loss 0.1876558001282849\n",
            "Epoch 12 Training loss 0.1792678247335591\n",
            "Epoch 13 Training loss 0.17187328773397434\n",
            "Epoch 14 Training loss 0.16500236343922495\n",
            "Epoch 15 Training loss 0.15919345112729677\n",
            "Epoch 16 Training loss 0.15300321649712853\n",
            "Epoch 17 Training loss 0.1472938071842058\n",
            "Epoch 18 Training loss 0.14274496113574958\n",
            "Epoch 19 Training loss 0.13763309626168088\n",
            "Epoch 20 Training loss 0.1332169443227445\n",
            "Epoch 21 Training loss 0.12851924060171918\n",
            "Epoch 22 Training loss 0.12465214481742322\n",
            "Epoch 23 Training loss 0.12085982416815395\n",
            "Epoch 24 Training loss 0.1169497228310078\n",
            "Finished Training\n"
          ]
        }
      ]
    },
    {
      "cell_type": "code",
      "source": [
        "import seaborn as sns\n",
        "import matplotlib.pyplot as plt\n",
        "learning_rate = 0.01\n",
        "num_epochs = 100\n",
        "patience = 25\n",
        "\n",
        "torch.manual_seed(190401071)\n",
        "num_hidden_neuron = 5000\n",
        "\n",
        "criterion = nn.BCELoss()\n",
        "optimizer = torch.optim.SGD(model.parameters(), lr=learning_rate)\n",
        "\n",
        "list_train_loss, list_val_loss = [], []\n",
        "\n",
        "best_val_loss = None\n",
        "\n",
        "patience_counter = 0\n",
        "for epoch in range(num_epochs):\n",
        "\n",
        "  train_loss = 0.0\n",
        "  train_count = 0.0\n",
        "  for inputs, labels in train_loader:\n",
        "\n",
        "    optimizer.zero_grad()\n",
        "\n",
        "    outputs = model(inputs)\n",
        "    loss = criterion(outputs, labels)\n",
        "    loss.backward()\n",
        "    optimizer.step()\n",
        "\n",
        "    train_count += 1.0\n",
        "    train_loss += loss.item()\n",
        "\n",
        "  val_loss = 0.0\n",
        "  with torch.no_grad():\n",
        "    model.eval()\n",
        "    for inputs, labels in valit_loader:\n",
        "        outputs = model(inputs)\n",
        "        loss = criterion(outputs, labels)\n",
        "        val_loss += loss.item()\n",
        "\n",
        "  model.train()\n",
        "\n",
        "  train_loss /= train_count\n",
        "  val_loss /= len(valit_loader)\n",
        "\n",
        "  print(\"Epoch\", epoch, \"Training loss\", train_loss,\"Validation Loss :\",val_loss)\n",
        "\n",
        "  list_train_loss.append(train_loss)\n",
        "  list_val_loss.append(val_loss)\n",
        "\n",
        "  val_score = val_loss\n",
        "  if best_val_loss is None:\n",
        "    best_val_loss = val_score \n",
        "    torch.save(model.state_dict(), \"checkpoint.pt\")\n",
        "  elif best_val_loss < val_score:\n",
        "    patience_counter += 1\n",
        "    print(\"Earlystopping Patience Counter:\",patience_counter)\n",
        "    if patience_counter == patience:\n",
        "        break\n",
        "  else:\n",
        "    best_val_loss = val_score\n",
        "    torch.save(model.state_dict(), \"checkpoint.pt\")\n",
        "    patience_counter = 0\n",
        "\n",
        "sns.set_style(\"darkgrid\")\n",
        "plt.plot(list_train_loss, label=\"Training loss\")\n",
        "plt.plot(list_val_loss, label=\"Validation loss\")\n",
        "plt.xlabel(\"Epoch\")\n",
        "plt.ylabel(\"Loss\")\n",
        "plt.legend()\n",
        "plt.show()\n",
        "\n",
        "\n",
        "print('Finished Training')"
      ],
      "metadata": {
        "colab": {
          "base_uri": "https://localhost:8080/",
          "height": 1000
        },
        "id": "96zQxTau_z7-",
        "outputId": "85b46cb8-5516-4f17-9d1b-9267028f3fd0"
      },
      "execution_count": 4,
      "outputs": [
        {
          "output_type": "stream",
          "name": "stdout",
          "text": [
            "Epoch 0 Training loss 0.11327974686894236 Validation Loss : 0.1690218821167946\n",
            "Epoch 1 Training loss 0.11026466234669655 Validation Loss : 0.16779531985521318\n",
            "Epoch 2 Training loss 0.10688937010974446 Validation Loss : 0.16631159223616124\n",
            "Epoch 3 Training loss 0.1034713754241791 Validation Loss : 0.16418480779975653\n",
            "Epoch 4 Training loss 0.10075941311690627 Validation Loss : 0.1639940544962883\n",
            "Epoch 5 Training loss 0.09772988007981566 Validation Loss : 0.16428737062960863\n",
            "Earlystopping Patience Counter: 1\n",
            "Epoch 6 Training loss 0.09527253951948089 Validation Loss : 0.16317803505808115\n",
            "Epoch 7 Training loss 0.0919602563769757 Validation Loss : 0.16382627449929715\n",
            "Earlystopping Patience Counter: 1\n",
            "Epoch 8 Training loss 0.08980057460456332 Validation Loss : 0.1625410681590438\n",
            "Epoch 9 Training loss 0.08705895358130714 Validation Loss : 0.16288846228271722\n",
            "Earlystopping Patience Counter: 1\n",
            "Epoch 10 Training loss 0.08421881638373001 Validation Loss : 0.16134248115122318\n",
            "Epoch 11 Training loss 0.08248434111452367 Validation Loss : 0.16381376516073942\n",
            "Earlystopping Patience Counter: 1\n",
            "Epoch 12 Training loss 0.08009033230475232 Validation Loss : 0.1623881312087178\n",
            "Earlystopping Patience Counter: 2\n",
            "Epoch 13 Training loss 0.07734479563004232 Validation Loss : 0.16230963971465825\n",
            "Earlystopping Patience Counter: 3\n",
            "Epoch 14 Training loss 0.07513093234546765 Validation Loss : 0.16217305064201354\n",
            "Earlystopping Patience Counter: 4\n",
            "Epoch 15 Training loss 0.07359953495214068 Validation Loss : 0.16115048807114363\n",
            "Epoch 16 Training loss 0.07135525502594589 Validation Loss : 0.16246883440762758\n",
            "Earlystopping Patience Counter: 1\n",
            "Epoch 17 Training loss 0.069398801502642 Validation Loss : 0.16265889033675193\n",
            "Earlystopping Patience Counter: 2\n",
            "Epoch 18 Training loss 0.0671445552106428 Validation Loss : 0.16202112454921008\n",
            "Earlystopping Patience Counter: 3\n",
            "Epoch 19 Training loss 0.06624728015069908 Validation Loss : 0.1638128613587469\n",
            "Earlystopping Patience Counter: 4\n",
            "Epoch 20 Training loss 0.06384437188176037 Validation Loss : 0.1653596530202776\n",
            "Earlystopping Patience Counter: 5\n",
            "Epoch 21 Training loss 0.06207677572258288 Validation Loss : 0.16495287609286607\n",
            "Earlystopping Patience Counter: 6\n",
            "Epoch 22 Training loss 0.061201683667052205 Validation Loss : 0.16599910687655212\n",
            "Earlystopping Patience Counter: 7\n",
            "Epoch 23 Training loss 0.05899432954625993 Validation Loss : 0.16683618696406483\n",
            "Earlystopping Patience Counter: 8\n",
            "Epoch 24 Training loss 0.057293065352058865 Validation Loss : 0.16744471271522343\n",
            "Earlystopping Patience Counter: 9\n",
            "Epoch 25 Training loss 0.05687416287999647 Validation Loss : 0.16920658806338906\n",
            "Earlystopping Patience Counter: 10\n",
            "Epoch 26 Training loss 0.054572907926314335 Validation Loss : 0.1692897191736847\n",
            "Earlystopping Patience Counter: 11\n",
            "Epoch 27 Training loss 0.053152441574684996 Validation Loss : 0.17106278175488115\n",
            "Earlystopping Patience Counter: 12\n",
            "Epoch 28 Training loss 0.05229545355467951 Validation Loss : 0.17086127293296158\n",
            "Earlystopping Patience Counter: 13\n",
            "Epoch 29 Training loss 0.05087838928610133 Validation Loss : 0.17347524939104914\n",
            "Earlystopping Patience Counter: 14\n",
            "Epoch 30 Training loss 0.049646131712000205 Validation Loss : 0.17161815243307502\n",
            "Earlystopping Patience Counter: 15\n",
            "Epoch 31 Training loss 0.048040236991865534 Validation Loss : 0.17338079265318812\n",
            "Earlystopping Patience Counter: 16\n",
            "Epoch 32 Training loss 0.04733262922101996 Validation Loss : 0.17499857591465115\n",
            "Earlystopping Patience Counter: 17\n",
            "Epoch 33 Training loss 0.046515358644360794 Validation Loss : 0.1758833771571517\n",
            "Earlystopping Patience Counter: 18\n",
            "Epoch 34 Training loss 0.04479920929901986 Validation Loss : 0.1743191336048767\n",
            "Earlystopping Patience Counter: 19\n",
            "Epoch 35 Training loss 0.044304106934172915 Validation Loss : 0.17649531355127693\n",
            "Earlystopping Patience Counter: 20\n",
            "Epoch 36 Training loss 0.04337017054380731 Validation Loss : 0.179745209030807\n",
            "Earlystopping Patience Counter: 21\n",
            "Epoch 37 Training loss 0.042930006429028424 Validation Loss : 0.1817320054396987\n",
            "Earlystopping Patience Counter: 22\n",
            "Epoch 38 Training loss 0.04169490832549555 Validation Loss : 0.1800241855555214\n",
            "Earlystopping Patience Counter: 23\n",
            "Epoch 39 Training loss 0.04139647020477966 Validation Loss : 0.18164854439673944\n",
            "Earlystopping Patience Counter: 24\n",
            "Epoch 40 Training loss 0.040687704466937605 Validation Loss : 0.18007876039482654\n",
            "Earlystopping Patience Counter: 25\n"
          ]
        },
        {
          "output_type": "display_data",
          "data": {
            "text/plain": [
              "<Figure size 640x480 with 1 Axes>"
            ],
            "image/png": "[encoded data removed]"
          },
          "metadata": {}
        },
        {
          "output_type": "stream",
          "name": "stdout",
          "text": [
            "Finished Training\n"
          ]
        }
      ]
    },
    {
      "cell_type": "code",
      "source": [
        "from torcheval.metrics.functional import multiclass_f1_score\n",
        "from torcheval.metrics.functional import multiclass_accuracy\n",
        "import numpy\n",
        "model.load_state_dict(torch.load('checkpoint.pt'))\n",
        "\n",
        "predictions = []\n",
        "ground_truths = []\n",
        "\n",
        "model.eval()\n",
        "with torch.no_grad():\n",
        "  for inputs,masks in test_loader:\n",
        "    outputs = model(inputs)\n",
        "    _,predicted = torch.max(outputs.data,1)\n",
        "    predictions.extend(predicted.tolist())\n",
        "    ground_truths.extend(masks.tolist())\n",
        "\n",
        "ground_truths = torch.tensor(ground_truths)\n",
        "predictions = torch.tensor(predictions)\n",
        "ground_truths = ground_truths.squeeze()\n",
        "\n",
        "f1_score = multiclass_f1_score(predictions,ground_truths.to(torch.int64),num_classes=2,average='macro')\n",
        "accuracy = multiclass_accuracy(predictions,ground_truths)\n",
        "\n",
        "print(\"F1-Score: {:.4f}\\nAccuracy: {:.4f}\".format(f1_score,accuracy))\n"
      ],
      "metadata": {
        "colab": {
          "base_uri": "https://localhost:8080/"
        },
        "id": "ueDM7IZLHuOi",
        "outputId": "db3c0b65-2669-4438-c33b-1cebb9bd7b68"
      },
      "execution_count": 10,
      "outputs": [
        {
          "output_type": "stream",
          "name": "stdout",
          "text": [
            "F1-Score: 0.3322\n",
            "Accuracy: 0.4974\n"
          ]
        }
      ]
    },
    {
      "cell_type": "code",
      "source": [
        "model.load_state_dict(torch.load('checkpoint.pt'))\n",
        "model.eval()\n",
        "predicts =[]\n",
        "real_labels = list()\n",
        "with torch.no_grad():\n",
        "  for inputs,label in test_loader:\n",
        "    outputs = model(inputs)\n",
        "    _,predict = torch.max(outputs.data,1)\n",
        "    predicts.extend(predict.tolist())\n",
        "    real_labels.extend(label.tolist())\n",
        "\n",
        "\n",
        "from sklearn.metrics import f1_score,accuracy_score,classification_report\n",
        "print(\"Accuracy score of this model: {}\".format(accuracy_score(real_labels,predicts)))\n",
        "print(classification_report(real_labels,predicts))\n"
      ],
      "metadata": {
        "colab": {
          "base_uri": "https://localhost:8080/"
        },
        "id": "6D7zokAoQqW1",
        "outputId": "58d7b40c-9aa5-4fb5-daa3-b46051e64bbc"
      },
      "execution_count": 9,
      "outputs": [
        {
          "output_type": "stream",
          "name": "stdout",
          "text": [
            "Accuracy score of this model: 0.49740932642487046\n",
            "              precision    recall  f1-score   support\n",
            "\n",
            "         0.0       0.50      1.00      0.66       384\n",
            "         1.0       0.00      0.00      0.00       388\n",
            "\n",
            "    accuracy                           0.50       772\n",
            "   macro avg       0.25      0.50      0.33       772\n",
            "weighted avg       0.25      0.50      0.33       772\n",
            "\n"
          ]
        },
        {
          "output_type": "stream",
          "name": "stderr",
          "text": [
            "/usr/local/lib/python3.9/dist-packages/sklearn/metrics/_classification.py:1344: UndefinedMetricWarning: Precision and F-score are ill-defined and being set to 0.0 in labels with no predicted samples. Use `zero_division` parameter to control this behavior.\n",
            "  _warn_prf(average, modifier, msg_start, len(result))\n",
            "/usr/local/lib/python3.9/dist-packages/sklearn/metrics/_classification.py:1344: UndefinedMetricWarning: Precision and F-score are ill-defined and being set to 0.0 in labels with no predicted samples. Use `zero_division` parameter to control this behavior.\n",
            "  _warn_prf(average, modifier, msg_start, len(result))\n",
            "/usr/local/lib/python3.9/dist-packages/sklearn/metrics/_classification.py:1344: UndefinedMetricWarning: Precision and F-score are ill-defined and being set to 0.0 in labels with no predicted samples. Use `zero_division` parameter to control this behavior.\n",
            "  _warn_prf(average, modifier, msg_start, len(result))\n"
          ]
        }
      ]
    },
    {
      "cell_type": "code",
      "source": [],
      "metadata": {
        "id": "Ova_VaxfbMDi"
      },
      "execution_count": 74,
      "outputs": []
    }
  ]
}